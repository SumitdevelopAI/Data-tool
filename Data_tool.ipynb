{
 "cells": [
  {
   "cell_type": "markdown",
   "metadata": {},
   "source": [
    "# Q2: - Create a markdown cell with the title of the notebook\n",
    "\n",
    "Title of Notebook is \n",
    "\n",
    "# Data_Tool"
   ]
  },
  {
   "cell_type": "markdown",
   "metadata": {},
   "source": [
    "# Q3: - Create a markdown cell for an introduction.\n",
    "\n",
    "Introduction to data tool \n",
    "\n",
    "Data tools encompass a broad spectrum of software applications and platforms designed to collect, store, process, analyze, and visualize data. These tools play a crucial role in modern data-driven decision-making across various industries and domains. Here's an overview of some common types of data tools and their functionalities:\n",
    "\n"
   ]
  },
  {
   "cell_type": "markdown",
   "metadata": {},
   "source": [
    "# Q4: - Create a markdown cell to list data science languages.\n",
    "\n",
    "Python\n",
    "R\n",
    "SQL\n",
    "Java\n",
    "Julia\n",
    "Scala\n",
    "MATLAB\n",
    "SAS"
   ]
  },
  {
   "cell_type": "markdown",
   "metadata": {},
   "source": [
    "# Q5: - Create a markdown cell to list data science libraries.\n",
    "\n",
    "Pandas (Python)\n",
    "NumPy (Python)\n",
    "SciPy (Python)\n",
    "Scikit-learn (Python)\n",
    "TensorFlow (Python)\n",
    "Keras (Python)\n",
    "PyTorch (Python)\n",
    "Matplotlib (Python)"
   ]
  },
  {
   "cell_type": "markdown",
   "metadata": {},
   "source": [
    "# Q6: -  Create a markdown cell with a table of Data Science tools\n",
    "\n",
    "Pandas       Data manipulation and analysis library (Python) \n",
    "NumPy       Numerical computing library (Python)            \n",
    "SciPy       Library for scientific computing (Python)       \n",
    "Scikit-learn Machine learning library (Python)               \n",
    "TensorFlow   Deep learning framework (Python)                \n",
    "Keras        High-level neural networks API (Python)         \n",
    "PyTorch      Deep learning framework (Python)                \n",
    "Matplotlib   Plotting and visualization library (Python)     \n",
    "Seaborn      Statistical data visualization (Python)       "
   ]
  },
  {
   "cell_type": "markdown",
   "metadata": {},
   "source": [
    "# Q7: - Create a markdown cell introducing arithmetic expression examples\n",
    "\n",
    "## Arithmetic Expressions in Programming\n",
    "\n",
    "Arithmetic expressions are used in programming to perform mathematical operations. These operations include addition, subtraction, multiplication, division, and more. Below are some basic examples of arithmetic expressions:\n",
    "\n",
    "### Addition\n",
    "\n",
    "The addition operator (`+`) adds two numbers together.\n",
    "\n",
    "Example:\n",
    "```python\n",
    "a = 5\n",
    "b = 3\n",
    "result = a + b  # result is 8\n"
   ]
  },
  {
   "cell_type": "code",
   "execution_count": 1,
   "metadata": {},
   "outputs": [
    {
     "name": "stdout",
     "output_type": "stream",
     "text": [
      "Multiplication Result (a * b): 15\n",
      "Addition Result (multiplication_result + c): 17\n"
     ]
    }
   ],
   "source": [
    "# Q8: - Create a code cell to multiply and add numbers. \n",
    "\n",
    "# Define the numbers to be used\n",
    "a = 5\n",
    "b = 3\n",
    "c = 2\n",
    "\n",
    "# Multiply a and b\n",
    "multiplication_result = a * b\n",
    "\n",
    "# Add the result of multiplication to c\n",
    "addition_result = multiplication_result + c\n",
    "\n",
    "# Print the results\n",
    "print(\"Multiplication Result (a * b):\", multiplication_result)\n",
    "print(\"Addition Result (multiplication_result + c):\", addition_result)\n"
   ]
  },
  {
   "cell_type": "code",
   "execution_count": 2,
   "metadata": {},
   "outputs": [
    {
     "name": "stdout",
     "output_type": "stream",
     "text": [
      "120 minutes is equal to 2.0 hours.\n"
     ]
    }
   ],
   "source": [
    "# Q9: - Create a code cell to convert minutes to hours.\n",
    "\n",
    "# Define the number of minutes\n",
    "minutes = 120\n",
    "\n",
    "# Convert minutes to hours\n",
    "hours = minutes / 60\n",
    "\n",
    "# Print the result\n",
    "print(f\"{minutes} minutes is equal to {hours} hours.\")\n"
   ]
  },
  {
   "cell_type": "markdown",
   "metadata": {},
   "source": [
    "# Q10: - Insert a markdown cell to list Objectives\n",
    "\n",
    "## Objectives\n",
    "\n",
    "- Understand the basics of arithmetic expressions\n",
    "- Learn how to use arithmetic operators in programming\n",
    "- Practice converting time units (minutes to hours)\n",
    "- Implement and test simple mathematical operations in code\n",
    "- Gain familiarity with writing and formatting markdown cells in Jupyter Notebook\n"
   ]
  },
  {
   "cell_type": "markdown",
   "metadata": {},
   "source": [
    "# Q11: -  Create a markdown cell to indicate the Author’s name\n",
    "\n",
    "**Author**: [Devendra Parmar]\n"
   ]
  }
 ],
 "metadata": {
  "language_info": {
   "name": "python"
  }
 },
 "nbformat": 4,
 "nbformat_minor": 2
}
