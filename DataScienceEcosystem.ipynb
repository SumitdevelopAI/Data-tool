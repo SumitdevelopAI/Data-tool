{
  "nbformat": 4,
  "nbformat_minor": 0,
  "metadata": {
    "colab": {
      "provenance": [],
      "authorship_tag": "ABX9TyOon3vwrQ+uzMXCcA4IUcNB",
      "include_colab_link": true
    },
    "kernelspec": {
      "name": "python3",
      "display_name": "Python 3"
    },
    "language_info": {
      "name": "python"
    }
  },
  "cells": [
    {
      "cell_type": "markdown",
      "metadata": {
        "id": "view-in-github",
        "colab_type": "text"
      },
      "source": [
        "<a href=\"https://colab.research.google.com/github/SumitdevelopAI/Data-tool/blob/main/DataScienceEcosystem.ipynb\" target=\"_parent\"><img src=\"https://colab.research.google.com/assets/colab-badge.svg\" alt=\"Open In Colab\"/></a>"
      ]
    },
    {
      "cell_type": "markdown",
      "source": [
        "# **Title: - Data Science Tools and Ecosystem**"
      ],
      "metadata": {
        "id": "ysjiMc_kwY7w"
      }
    },
    {
      "cell_type": "markdown",
      "source": [
        "# **Introduction**\n",
        "\n",
        "The data science ecosystem encompasses various tools and technologies for different stages of the data analysis process. Key programming languages include Python, R, SQL, and Julia, each excelling in different aspects of data science. Popular IDEs such as Jupyter Notebook, RStudio, PyCharm, and Spyder support interactive and efficient coding. For data visualization, tools like Matplotlib, Seaborn, ggplot2, Tableau, and Power BI are widely used. Machine learning libraries such as Scikit-learn, TensorFlow, Keras, PyTorch, and XGBoost facilitate model building and deployment. Big data technologies like Apache Hadoop, Apache Spark, and Kafka handle large-scale data processing. Data storage solutions range from relational databases (MySQL, PostgreSQL) and NoSQL databases (MongoDB, Cassandra) to cloud storage (Amazon S3, Google Cloud Storage). Version control systems like Git, GitHub, GitLab, and Bitbucket are crucial for tracking code changes and enabling collaboration. Overall, the data science ecosystem integrates tools for data collection, cleaning, exploration, modeling, deployment, and monitoring, streamlining the path from raw data to actionable insights.\n",
        "\n",
        "\n"
      ],
      "metadata": {
        "id": "pdylF812zlu1"
      }
    },
    {
      "cell_type": "markdown",
      "source": [
        "**Some of the popular languages that Data Scientists use are:**\n",
        "\n",
        "1. Python\n",
        "2. R\n",
        "3. SQL\n",
        "4. Julia\n"
      ],
      "metadata": {
        "id": "enCJRFkM1NAg"
      }
    },
    {
      "cell_type": "markdown",
      "source": [
        "**Some of the commonly used libraries used by Data Scientists include:**\n",
        "\n",
        "1. Pandas\n",
        "2. NumPy\n",
        "3. Scikit-learn\n",
        "4. TensorFlow\n",
        "5. Matplotlib\n"
      ],
      "metadata": {
        "id": "dIG5r1XW2A3E"
      }
    },
    {
      "cell_type": "markdown",
      "source": [
        "| Data Science Tools |\n",
        "|--------------------|\n",
        "| Jupyter Notebook   |\n",
        "| RStudio            |\n",
        "| Spyder             |\n"
      ],
      "metadata": {
        "id": "-AmH_qQm2cvE"
      }
    },
    {
      "cell_type": "markdown",
      "source": [
        "### Below are a few examples of evaluating arithmetic expressions in Python\n",
        "\n",
        "1. Addition: `3 + 5` evaluates to `8`\n",
        "2. Subtraction: `10 - 2` evaluates to `8`\n",
        "3. Multiplication: `4 * 7` evaluates to `28`\n",
        "4. Division: `20 / 4` evaluates to `5`\n",
        "5. Exponentiation: `2 ** 3` evaluates to `8`\n",
        "6. Modulus: `10 % 3` evaluates to `1`\n"
      ],
      "metadata": {
        "id": "DLm6qemY3kFL"
      }
    },
    {
      "cell_type": "code",
      "source": [
        "# This a simple arithmetic expression to mutiply then add integers.\n",
        "\n",
        "Number = (3*4)+5\n",
        "\n",
        "print(Number)"
      ],
      "metadata": {
        "colab": {
          "base_uri": "https://localhost:8080/"
        },
        "id": "piDFkD1H3lWJ",
        "outputId": "77f0c6a2-e8b8-4f94-c288-1042de0faed5"
      },
      "execution_count": 5,
      "outputs": [
        {
          "output_type": "stream",
          "name": "stdout",
          "text": [
            "17\n"
          ]
        }
      ]
    },
    {
      "cell_type": "code",
      "source": [
        "# This will convert 200 minutes to hours by dividing by 60\n",
        "minutes = 200\n",
        "hours = minutes / 60\n",
        "hours\n"
      ],
      "metadata": {
        "colab": {
          "base_uri": "https://localhost:8080/"
        },
        "id": "FmuN5vO-5uBu",
        "outputId": "27152836-172d-42cb-982c-601eae56c847"
      },
      "execution_count": 6,
      "outputs": [
        {
          "output_type": "execute_result",
          "data": {
            "text/plain": [
              "3.3333333333333335"
            ]
          },
          "metadata": {},
          "execution_count": 6
        }
      ]
    },
    {
      "cell_type": "markdown",
      "source": [
        "#**Objectives:**\n",
        "\n",
        "- List popular languages for Data Science\n",
        "- Identify commonly used libraries in Data Science\n",
        "- Describe development environment open source tools used in Data Science\n",
        "- Provide examples of evaluating arithmetic expressions in Python\n",
        "- Demonstrate how to convert minutes to hours in Python\n"
      ],
      "metadata": {
        "id": "tvRFv3ky6m6_"
      }
    },
    {
      "cell_type": "markdown",
      "source": [
        "#**Author**\n",
        "\n",
        "**Devendar Parmar**"
      ],
      "metadata": {
        "id": "hcTjJShi6qSr"
      }
    }
  ]
}